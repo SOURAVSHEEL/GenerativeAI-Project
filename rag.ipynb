{
 "cells": [
  {
   "cell_type": "code",
   "execution_count": 4,
   "metadata": {},
   "outputs": [],
   "source": [
    "import requests\n",
    "import xmltodict\n",
    "import fitz  # PyMuPDF\n",
    "import os\n",
    "from dotenv import load_dotenv\n",
    "# from langchain.embeddings import \n",
    "from langchain.vectorstores import FAISS\n",
    "from langchain.chains import RetrievalQA\n",
    "from langchain.chat_models import ChatOpenAI"
   ]
  },
  {
   "cell_type": "code",
   "execution_count": 5,
   "metadata": {},
   "outputs": [
    {
     "data": {
      "text/plain": [
       "True"
      ]
     },
     "execution_count": 5,
     "metadata": {},
     "output_type": "execute_result"
    }
   ],
   "source": [
    "## load enviroment variables from the .env files\n",
    "load_dotenv()"
   ]
  },
  {
   "cell_type": "code",
   "execution_count": 6,
   "metadata": {},
   "outputs": [],
   "source": [
    "## get the api key from the .env file\n",
    "api_key = os.getenv(\"GROQ_API_KEY\")"
   ]
  },
  {
   "cell_type": "code",
   "execution_count": 7,
   "metadata": {},
   "outputs": [],
   "source": [
    "def extrct_text_from_pdf(pdf_path):\n",
    "    doc = fitz.open(pdf_path)\n",
    "    text = \"\"\n",
    "    for page in doc:\n",
    "        text += page.get_text(\"text\")\n",
    "    return text"
   ]
  },
  {
   "cell_type": "code",
   "execution_count": 21,
   "metadata": {},
   "outputs": [],
   "source": [
    "def extract_text_from_folder(folder_path):\n",
    "    all_text = {}\n",
    "    for file in os.listdir(folder_path):\n",
    "        if file.endswith(\".pdf\"):\n",
    "            pdf_path = os.path.join(folder_path, file)\n",
    "            print(f\"Processing: {pdf_path}\")\n",
    "            all_text[file] = extrct_text_from_pdf(pdf_path)\n",
    "    return all_text            "
   ]
  },
  {
   "cell_type": "code",
   "execution_count": 22,
   "metadata": {},
   "outputs": [
    {
     "name": "stdout",
     "output_type": "stream",
     "text": [
      "Processing: C:\\Users\\soura\\OneDrive\\Desktop\\Projects\\GenerativeAI-Projects\\ResearchPaper-Query-RAG\\ResearchPaper-Data\\1501.05039v1.pdf\n",
      "Processing: C:\\Users\\soura\\OneDrive\\Desktop\\Projects\\GenerativeAI-Projects\\ResearchPaper-Query-RAG\\ResearchPaper-Data\\1602.00203v1.pdf\n",
      "Processing: C:\\Users\\soura\\OneDrive\\Desktop\\Projects\\GenerativeAI-Projects\\ResearchPaper-Query-RAG\\ResearchPaper-Data\\1607.00858v1.pdf\n",
      "Processing: C:\\Users\\soura\\OneDrive\\Desktop\\Projects\\GenerativeAI-Projects\\ResearchPaper-Query-RAG\\ResearchPaper-Data\\1705.03921v1.pdf\n",
      "Processing: C:\\Users\\soura\\OneDrive\\Desktop\\Projects\\GenerativeAI-Projects\\ResearchPaper-Query-RAG\\ResearchPaper-Data\\1711.03577v1.pdf\n",
      "Processing: C:\\Users\\soura\\OneDrive\\Desktop\\Projects\\GenerativeAI-Projects\\ResearchPaper-Query-RAG\\ResearchPaper-Data\\1805.03551v2.pdf\n",
      "Processing: C:\\Users\\soura\\OneDrive\\Desktop\\Projects\\GenerativeAI-Projects\\ResearchPaper-Query-RAG\\ResearchPaper-Data\\1805.04825v1.pdf\n",
      "Processing: C:\\Users\\soura\\OneDrive\\Desktop\\Projects\\GenerativeAI-Projects\\ResearchPaper-Query-RAG\\ResearchPaper-Data\\1805.08355v1.pdf\n",
      "Processing: C:\\Users\\soura\\OneDrive\\Desktop\\Projects\\GenerativeAI-Projects\\ResearchPaper-Query-RAG\\ResearchPaper-Data\\1806.01756v1.pdf\n",
      "Processing: C:\\Users\\soura\\OneDrive\\Desktop\\Projects\\GenerativeAI-Projects\\ResearchPaper-Query-RAG\\ResearchPaper-Data\\1812.05448v4.pdf\n",
      "Processing: C:\\Users\\soura\\OneDrive\\Desktop\\Projects\\GenerativeAI-Projects\\ResearchPaper-Query-RAG\\ResearchPaper-Data\\1901.02354v2.pdf\n",
      "Processing: C:\\Users\\soura\\OneDrive\\Desktop\\Projects\\GenerativeAI-Projects\\ResearchPaper-Query-RAG\\ResearchPaper-Data\\1901.04195v1.pdf\n",
      "Processing: C:\\Users\\soura\\OneDrive\\Desktop\\Projects\\GenerativeAI-Projects\\ResearchPaper-Query-RAG\\ResearchPaper-Data\\1901.09388v2.pdf\n",
      "Processing: C:\\Users\\soura\\OneDrive\\Desktop\\Projects\\GenerativeAI-Projects\\ResearchPaper-Query-RAG\\ResearchPaper-Data\\1908.02130v1.pdf\n",
      "Processing: C:\\Users\\soura\\OneDrive\\Desktop\\Projects\\GenerativeAI-Projects\\ResearchPaper-Query-RAG\\ResearchPaper-Data\\2002.05658v1.pdf\n",
      "Processing: C:\\Users\\soura\\OneDrive\\Desktop\\Projects\\GenerativeAI-Projects\\ResearchPaper-Query-RAG\\ResearchPaper-Data\\2007.03606v1.pdf\n",
      "Processing: C:\\Users\\soura\\OneDrive\\Desktop\\Projects\\GenerativeAI-Projects\\ResearchPaper-Query-RAG\\ResearchPaper-Data\\2010.05125v2.pdf\n",
      "MuPDF error: syntax error: cannot find XObject resource 'times-minus'\n",
      "\n",
      "MuPDF error: syntax error: cannot find XObject resource 'times-minus'\n",
      "\n",
      "MuPDF error: syntax error: cannot find XObject resource 'times-minus'\n",
      "\n",
      "MuPDF error: syntax error: cannot find XObject resource 'times-minus'\n",
      "\n",
      "MuPDF error: syntax error: cannot find XObject resource 'times-minus'\n",
      "\n",
      "MuPDF error: syntax error: cannot find XObject resource 'times-minus'\n",
      "\n",
      "Processing: C:\\Users\\soura\\OneDrive\\Desktop\\Projects\\GenerativeAI-Projects\\ResearchPaper-Query-RAG\\ResearchPaper-Data\\2106.00120v3.pdf\n",
      "Processing: C:\\Users\\soura\\OneDrive\\Desktop\\Projects\\GenerativeAI-Projects\\ResearchPaper-Query-RAG\\ResearchPaper-Data\\2108.01468v1.pdf\n",
      "Processing: C:\\Users\\soura\\OneDrive\\Desktop\\Projects\\GenerativeAI-Projects\\ResearchPaper-Query-RAG\\ResearchPaper-Data\\2108.11510v1.pdf\n",
      "Processing: C:\\Users\\soura\\OneDrive\\Desktop\\Projects\\GenerativeAI-Projects\\ResearchPaper-Query-RAG\\ResearchPaper-Data\\2112.01590v3.pdf\n",
      "Processing: C:\\Users\\soura\\OneDrive\\Desktop\\Projects\\GenerativeAI-Projects\\ResearchPaper-Query-RAG\\ResearchPaper-Data\\2201.05852v1.pdf\n",
      "Processing: C:\\Users\\soura\\OneDrive\\Desktop\\Projects\\GenerativeAI-Projects\\ResearchPaper-Query-RAG\\ResearchPaper-Data\\2201.05867v1.pdf\n",
      "Processing: C:\\Users\\soura\\OneDrive\\Desktop\\Projects\\GenerativeAI-Projects\\ResearchPaper-Query-RAG\\ResearchPaper-Data\\2303.01980v1.pdf\n",
      "Processing: C:\\Users\\soura\\OneDrive\\Desktop\\Projects\\GenerativeAI-Projects\\ResearchPaper-Query-RAG\\ResearchPaper-Data\\2303.02715v1.pdf\n",
      "Processing: C:\\Users\\soura\\OneDrive\\Desktop\\Projects\\GenerativeAI-Projects\\ResearchPaper-Query-RAG\\ResearchPaper-Data\\2306.13586v1.pdf\n",
      "Processing: C:\\Users\\soura\\OneDrive\\Desktop\\Projects\\GenerativeAI-Projects\\ResearchPaper-Query-RAG\\ResearchPaper-Data\\2306.16177v3.pdf\n",
      "Processing: C:\\Users\\soura\\OneDrive\\Desktop\\Projects\\GenerativeAI-Projects\\ResearchPaper-Query-RAG\\ResearchPaper-Data\\2308.04896v1.pdf\n",
      "Processing: C:\\Users\\soura\\OneDrive\\Desktop\\Projects\\GenerativeAI-Projects\\ResearchPaper-Query-RAG\\ResearchPaper-Data\\2403.00776v1.pdf\n",
      "Processing: C:\\Users\\soura\\OneDrive\\Desktop\\Projects\\GenerativeAI-Projects\\ResearchPaper-Query-RAG\\ResearchPaper-Data\\2403.03387v2.pdf\n"
     ]
    }
   ],
   "source": [
    "folder_path = r\"C:\\Users\\soura\\OneDrive\\Desktop\\Projects\\GenerativeAI-Projects\\ResearchPaper-Query-RAG\\ResearchPaper-Data\"\n",
    "pdf_texts = extract_text_from_folder(folder_path)"
   ]
  },
  {
   "cell_type": "code",
   "execution_count": null,
   "metadata": {},
   "outputs": [],
   "source": []
  }
 ],
 "metadata": {
  "kernelspec": {
   "display_name": "llmpy",
   "language": "python",
   "name": "python3"
  },
  "language_info": {
   "codemirror_mode": {
    "name": "ipython",
    "version": 3
   },
   "file_extension": ".py",
   "mimetype": "text/x-python",
   "name": "python",
   "nbconvert_exporter": "python",
   "pygments_lexer": "ipython3",
   "version": "3.11.11"
  }
 },
 "nbformat": 4,
 "nbformat_minor": 2
}
